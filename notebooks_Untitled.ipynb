{
  "metadata": {
    "language_info": {
      "codemirror_mode": {
        "name": "python",
        "version": 3
      },
      "file_extension": ".py",
      "mimetype": "text/x-python",
      "name": "python",
      "nbconvert_exporter": "python",
      "pygments_lexer": "ipython3",
      "version": "3.8"
    },
    "kernelspec": {
      "name": "python",
      "display_name": "Python (Pyodide)",
      "language": "python"
    }
  },
  "nbformat_minor": 4,
  "nbformat": 4,
  "cells": [
    {
      "cell_type": "markdown",
      "source": "# My Jupyter Notebook on IBM Watson Studio",
      "metadata": {}
    },
    {
      "cell_type": "markdown",
      "source": "**Lipi**",
      "metadata": {}
    },
    {
      "cell_type": "markdown",
      "source": "data scientist",
      "metadata": {}
    },
    {
      "cell_type": "markdown",
      "source": "*I am interested in data science and this course because I want to pursue a career as a data scientist*",
      "metadata": {}
    },
    {
      "cell_type": "markdown",
      "source": "#### Below, it will print \"hello\" in different languages ####",
      "metadata": {}
    },
    {
      "cell_type": "code",
      "source": "print(\"Hello, Hola, Bonjour, Namaste\")",
      "metadata": {
        "trusted": true
      },
      "execution_count": 5,
      "outputs": [
        {
          "name": "stdout",
          "text": "Hello, Hola, Bonjour, Namaste\n",
          "output_type": "stream"
        }
      ]
    },
    {
      "cell_type": "markdown",
      "source": "Careers in Data Science: \n- Data Science \n- Data Analyist \n1. Financial Analyist \n2. Statistical Analyist \n\nhttps://d1m75rqqgidzqn.cloudfront.net/wp-data/2019/09/11134058/What-is-data-science-2.jpg ",
      "metadata": {}
    },
    {
      "cell_type": "code",
      "source": "",
      "metadata": {},
      "execution_count": null,
      "outputs": []
    }
  ]
}